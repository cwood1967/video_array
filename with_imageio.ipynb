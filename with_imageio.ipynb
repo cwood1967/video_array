{
 "cells": [
  {
   "cell_type": "code",
   "execution_count": 1,
   "metadata": {},
   "outputs": [],
   "source": [
    "%load_ext autoreload\n",
    "%autoreload 2"
   ]
  },
  {
   "cell_type": "code",
   "execution_count": 7,
   "metadata": {},
   "outputs": [],
   "source": [
    "\n",
    "import numpy as np\n",
    "import napari\n",
    "import imageio\n",
    "import imageio.v3 as iio\n",
    "\n",
    "import napari\n",
    "\n",
    "from video_iio import Video"
   ]
  },
  {
   "cell_type": "code",
   "execution_count": null,
   "metadata": {},
   "outputs": [],
   "source": [
    "viewer = napari.Viewer()"
   ]
  },
  {
   "cell_type": "code",
   "execution_count": 5,
   "metadata": {},
   "outputs": [
    {
     "name": "stdout",
     "output_type": "stream",
     "text": [
      "swimming behavior_WT_4.5dpf_1-23-06-23-17-27-05-336.mp4\n",
      "\n"
     ]
    },
    {
     "data": {
      "text/plain": [
       "['swimming behavior_WT_4.5dpf_1-23-06-23-17-27-05-336.mp4',\n",
       " '/Volumes/core/REAQ/Zebrafish/Rohner Lab/ACOBHAM Zebrafish Temperature Tolerance 202302-1/Videos/Experimental/20230302/2023-03-02 09-00-00 45B Control.mkv',\n",
       " '/Volumes/projects-1/rmh/public/3--13-24 ON RT.mov']"
      ]
     },
     "execution_count": 5,
     "metadata": {},
     "output_type": "execute_result"
    }
   ],
   "source": [
    "datafile = \"datafiles.txt\"\n",
    "files = list()\n",
    "with open(datafile, mode='r') as f:\n",
    "    line = f.readline()\n",
    "    while line:\n",
    "        files.append(line.strip())\n",
    "        line = f.readline()\n",
    "    "
   ]
  },
  {
   "cell_type": "code",
   "execution_count": 9,
   "metadata": {},
   "outputs": [],
   "source": [
    "vprops = iio.improps(files[1])"
   ]
  },
  {
   "cell_type": "code",
   "execution_count": 10,
   "metadata": {},
   "outputs": [
    {
     "data": {
      "text/plain": [
       "ImageProperties(shape=(inf, 600, 1600, 3), dtype=dtype('uint8'), n_images=inf, is_batch=True, spacing=None)"
      ]
     },
     "execution_count": 10,
     "metadata": {},
     "output_type": "execute_result"
    }
   ],
   "source": [
    "vprops"
   ]
  },
  {
   "cell_type": "code",
   "execution_count": 11,
   "metadata": {},
   "outputs": [
    {
     "name": "stdout",
     "output_type": "stream",
     "text": [
      "0\n",
      "323962\n"
     ]
    }
   ],
   "source": [
    "v = Video(files[1])"
   ]
  },
  {
   "cell_type": "code",
   "execution_count": 12,
   "metadata": {},
   "outputs": [
    {
     "data": {
      "text/plain": [
       "(10798.733333333334,\n",
       " 323962,\n",
       " (323962, 600, 1600, 3),\n",
       " 2.999648148148148,\n",
       " 30.0,\n",
       " {'video_format': 'yuv420p',\n",
       "  'codec': 'h264',\n",
       "  'long_codec': 'H.264 / AVC / MPEG-4 AVC / MPEG-4 part 10',\n",
       "  'profile': 'High',\n",
       "  'fps': 30.0,\n",
       "  'ENCODER': 'Lavf58.29.100',\n",
       "  'DURATION': '02:59:58.766000000'})"
      ]
     },
     "execution_count": 12,
     "metadata": {},
     "output_type": "execute_result"
    }
   ],
   "source": [
    "v.total_seconds, v.nframes, v.shape, v.total_seconds/3600, v.fps, v.vo.metadata()"
   ]
  },
  {
   "cell_type": "code",
   "execution_count": 13,
   "metadata": {},
   "outputs": [
    {
     "data": {
      "text/plain": [
       "933.01056"
      ]
     },
     "execution_count": 13,
     "metadata": {},
     "output_type": "execute_result"
    }
   ],
   "source": [
    "s = np.array(v.shape)\n",
    "s.prod()/1e9"
   ]
  },
  {
   "cell_type": "code",
   "execution_count": 14,
   "metadata": {},
   "outputs": [
    {
     "name": "stderr",
     "output_type": "stream",
     "text": [
      "No accelerated colorspace conversion found from yuv420p to rgb24.\n",
      "No accelerated colorspace conversion found from yuv420p to rgb24.\n"
     ]
    },
    {
     "data": {
      "text/plain": [
       "<Image layer 'v' at 0x16fa5a590>"
      ]
     },
     "execution_count": 14,
     "metadata": {},
     "output_type": "execute_result"
    },
    {
     "ename": "",
     "evalue": "",
     "output_type": "error",
     "traceback": [
      "\u001b[1;31mThe Kernel crashed while executing code in the current cell or a previous cell. \n",
      "\u001b[1;31mPlease review the code in the cell(s) to identify a possible cause of the failure. \n",
      "\u001b[1;31mClick <a href='https://aka.ms/vscodeJupyterKernelCrash'>here</a> for more info. \n",
      "\u001b[1;31mView Jupyter <a href='command:jupyter.viewOutput'>log</a> for further details."
     ]
    }
   ],
   "source": [
    "viewer.add_image(v)"
   ]
  },
  {
   "cell_type": "code",
   "execution_count": 60,
   "metadata": {},
   "outputs": [
    {
     "data": {
      "text/plain": [
       "{'video_format': 'yuv420p',\n",
       " 'codec': 'h264',\n",
       " 'long_codec': 'H.264 / AVC / MPEG-4 AVC / MPEG-4 part 10',\n",
       " 'profile': 'High',\n",
       " 'fps': 30.0,\n",
       " 'ENCODER': 'Lavf58.29.100',\n",
       " 'DURATION': '02:59:58.766000000'}"
      ]
     },
     "execution_count": 60,
     "metadata": {},
     "output_type": "execute_result"
    }
   ],
   "source": [
    "v.vo.metadata()"
   ]
  },
  {
   "cell_type": "code",
   "execution_count": 26,
   "metadata": {},
   "outputs": [
    {
     "data": {
      "text/plain": [
       "<Image layer 'x' at 0x2c0c13210>"
      ]
     },
     "execution_count": 26,
     "metadata": {},
     "output_type": "execute_result"
    }
   ],
   "source": [
    "x = v.read(index=2326)\n",
    "viewer.layers.clear()\n",
    "viewer.add_image(x)"
   ]
  },
  {
   "cell_type": "code",
   "execution_count": 14,
   "metadata": {},
   "outputs": [
    {
     "data": {
      "text/plain": [
       "ImageProperties(shape=(0, 600, 1600, 3), dtype=dtype('uint8'), n_images=0, is_batch=True, spacing=None)"
      ]
     },
     "execution_count": 14,
     "metadata": {},
     "output_type": "execute_result"
    }
   ],
   "source": [
    "props = v.vo.properties()\n",
    "props"
   ]
  },
  {
   "cell_type": "code",
   "execution_count": 29,
   "metadata": {},
   "outputs": [
    {
     "data": {
      "text/plain": [
       "ImageProperties(shape=(2328, 2048, 2448, 3), dtype=dtype('uint8'), n_images=2328, is_batch=True, spacing=None)"
      ]
     },
     "execution_count": 29,
     "metadata": {},
     "output_type": "execute_result"
    }
   ],
   "source": [
    "props"
   ]
  },
  {
   "cell_type": "code",
   "execution_count": 35,
   "metadata": {},
   "outputs": [],
   "source": [
    "meta = v.vo.metadata()"
   ]
  },
  {
   "cell_type": "code",
   "execution_count": 36,
   "metadata": {},
   "outputs": [
    {
     "data": {
      "text/plain": [
       "{'video_format': 'yuv420p',\n",
       " 'codec': 'h264',\n",
       " 'long_codec': 'H.264 / AVC / MPEG-4 AVC / MPEG-4 part 10',\n",
       " 'profile': 'High',\n",
       " 'fps': 30.0,\n",
       " 'ENCODER': 'Lavf58.29.100',\n",
       " 'DURATION': '02:58:58.833000000'}"
      ]
     },
     "execution_count": 36,
     "metadata": {},
     "output_type": "execute_result"
    }
   ],
   "source": [
    "meta"
   ]
  },
  {
   "cell_type": "code",
   "execution_count": 15,
   "metadata": {},
   "outputs": [],
   "source": [
    "viewer = napari.Viewer()"
   ]
  },
  {
   "cell_type": "code",
   "execution_count": 41,
   "metadata": {},
   "outputs": [
    {
     "name": "stderr",
     "output_type": "stream",
     "text": [
      "No accelerated colorspace conversion found from yuv420p to rgb24.\n",
      " (repeated 99 more times)\n",
      "No accelerated colorspace conversion found from yuv420p to rgb24.\n"
     ]
    }
   ],
   "source": [
    "x = v[33300:33400]"
   ]
  },
  {
   "cell_type": "code",
   "execution_count": 42,
   "metadata": {},
   "outputs": [
    {
     "data": {
      "text/plain": [
       "(100, 600, 1600, 3)"
      ]
     },
     "execution_count": 42,
     "metadata": {},
     "output_type": "execute_result"
    }
   ],
   "source": [
    "x.shape"
   ]
  },
  {
   "cell_type": "code",
   "execution_count": 56,
   "metadata": {},
   "outputs": [
    {
     "data": {
      "text/plain": [
       "<pims.pyav_reader.WrapPyAvFrame at 0x2cfbe7f10>"
      ]
     },
     "execution_count": 56,
     "metadata": {},
     "output_type": "execute_result"
    }
   ],
   "source": [
    "v.seek(0)"
   ]
  },
  {
   "cell_type": "code",
   "execution_count": null,
   "metadata": {},
   "outputs": [],
   "source": []
  }
 ],
 "metadata": {
  "kernelspec": {
   "display_name": "py310",
   "language": "python",
   "name": "python3"
  },
  "language_info": {
   "codemirror_mode": {
    "name": "ipython",
    "version": 3
   },
   "file_extension": ".py",
   "mimetype": "text/x-python",
   "name": "python",
   "nbconvert_exporter": "python",
   "pygments_lexer": "ipython3",
   "version": "3.11.7"
  },
  "orig_nbformat": 4
 },
 "nbformat": 4,
 "nbformat_minor": 2
}
